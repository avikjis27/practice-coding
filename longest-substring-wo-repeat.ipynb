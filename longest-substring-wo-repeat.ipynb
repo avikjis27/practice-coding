{
 "cells": [
  {
   "cell_type": "markdown",
   "metadata": {},
   "source": [
    "\n",
    "# Longest Substring Without Repeating Characters\n",
    "See Leetcode problem [#3](https://leetcode.com/problems/longest-substring-without-repeating-characters/description/)\n",
    "----------------\n",
    "\n",
    "##### Input\n",
    "s = \"abcabcbb\"\n",
    "##### Output\n",
    "Output: 3\n",
    "Explanation: The answer is \"abc\", with the length of 3."
   ]
  },
  {
   "cell_type": "code",
   "execution_count": 5,
   "metadata": {},
   "outputs": [],
   "source": [
    "from collections import defaultdict\n",
    "class Solution:\n",
    "    def lengthOfLongestSubstring(self, s: str) -> int:\n",
    "        if not s:\n",
    "          return 0\n",
    "        char_frequency = defaultdict(int)\n",
    "        result = 1\n",
    "        leftPtr = 0\n",
    "        rightPtr = leftPtr\n",
    "        while rightPtr < len(s):\n",
    "            character = str(s[rightPtr])\n",
    "            #print(self.char_frequency,character, self.leftPtr, self.rightPtr, self.result)\n",
    "            \n",
    "            if character in char_frequency:\n",
    "                char_frequency[character] += 1\n",
    "                while leftPtr <= rightPtr:\n",
    "                    left_char = str(s[leftPtr])\n",
    "                    if left_char in char_frequency:\n",
    "                        char_frequency[left_char] -= 1\n",
    "                    if char_frequency[left_char] == 0:\n",
    "                        char_frequency.pop(left_char)\n",
    "                    leftPtr += 1\n",
    "                    if left_char == character:\n",
    "                        break\n",
    "            else:\n",
    "                char_frequency[character] = 1\n",
    "                length = (rightPtr - leftPtr )+1\n",
    "                result = max(length, result)\n",
    "                \n",
    "            rightPtr += 1\n",
    "\n",
    "        return result\n",
    "    \n",
    "if __name__ == '__main__':\n",
    "  solution = Solution()\n",
    "  #print(solution.lengthOfLongestSubstring(\"aabb\"))\n",
    "  assert(solution.lengthOfLongestSubstring(\"abcabcbb\") == 3)\n",
    "  assert(solution.lengthOfLongestSubstring(\"abcdef\") == 6)\n",
    "  assert(solution.lengthOfLongestSubstring(\"abbcdef\") == 5)\n",
    "  assert(solution.lengthOfLongestSubstring(\"\") == 0)\n",
    "  assert(solution.lengthOfLongestSubstring(\"aabb\") == 2)\n",
    "  assert(solution.lengthOfLongestSubstring(\"aa\") == 1)\n",
    "  assert(solution.lengthOfLongestSubstring(\"a\") == 1)\n",
    "  assert(solution.lengthOfLongestSubstring(\"abb\") == 2)"
   ]
  }
 ],
 "metadata": {
  "kernelspec": {
   "display_name": "Python 3",
   "language": "python",
   "name": "python3"
  },
  "language_info": {
   "codemirror_mode": {
    "name": "ipython",
    "version": 3
   },
   "file_extension": ".py",
   "mimetype": "text/x-python",
   "name": "python",
   "nbconvert_exporter": "python",
   "pygments_lexer": "ipython3",
   "version": "3.12.3"
  }
 },
 "nbformat": 4,
 "nbformat_minor": 2
}
