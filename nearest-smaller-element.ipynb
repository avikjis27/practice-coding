{
 "cells": [
  {
   "cell_type": "markdown",
   "metadata": {},
   "source": [
    "https://leetcode.com/problems/two-sum/description/\n",
    "\n"
   ]
  },
  {
   "cell_type": "code",
   "execution_count": 7,
   "metadata": {},
   "outputs": [],
   "source": [
    "from typing import List\n",
    "def solution(nums: list[int]):\n",
    "  result: list[int] = []\n",
    "  stack: list[int] = []\n",
    "  for num in nums:\n",
    "    if not stack:\n",
    "      stack.append(num)\n",
    "      result.append(None)\n",
    "    else:\n",
    "      while stack:\n",
    "        if stack[-1] < num:\n",
    "          result.append(stack[-1])\n",
    "          stack.append(num)\n",
    "          break\n",
    "        else:\n",
    "          stack.pop()\n",
    "      if not stack:\n",
    "        result.append(None)\n",
    "\n",
    "  return result\n",
    "\n",
    "if __name__ == '__main__':\n",
    "  assert(solution([1, 3, 4, 2, 5, 3, 4, 2]) == [None, 1, 3, 1, 2, 2, 3, 1])\n",
    "  assert(solution([6, 5, 4, 3, 2, 1]) == [None, None, None, None, None, None])\n",
    "  assert(solution([1, 2, 3, 4, 5, 6]) == [None, 1, 2, 3, 4, 5])\n"
   ]
  }
 ],
 "metadata": {
  "kernelspec": {
   "display_name": "Python 3",
   "language": "python",
   "name": "python3"
  },
  "language_info": {
   "codemirror_mode": {
    "name": "ipython",
    "version": 3
   },
   "file_extension": ".py",
   "mimetype": "text/x-python",
   "name": "python",
   "nbconvert_exporter": "python",
   "pygments_lexer": "ipython3",
   "version": "3.12.3"
  }
 },
 "nbformat": 4,
 "nbformat_minor": 2
}
