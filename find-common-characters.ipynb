{
 "cells": [
  {
   "cell_type": "markdown",
   "metadata": {},
   "source": [
    "# Find Common Characters\n",
    "\n",
    "https://leetcode.com/problems/find-common-characters/description/"
   ]
  },
  {
   "cell_type": "code",
   "execution_count": 7,
   "metadata": {},
   "outputs": [],
   "source": [
    "from collections import defaultdict \n",
    "from typing import List\n",
    "class Solution:\n",
    "    def commonChars(self, words: List[str]) -> List[str]:\n",
    "        inputLength = len(words)\n",
    "        charmap = defaultdict(int)\n",
    "        result = []\n",
    "        for character in words[0]:\n",
    "            charmap[str(character)] += 1\n",
    "        \n",
    "        for word in words[1:]:\n",
    "            tempmap = defaultdict(int)\n",
    "            for character in word:\n",
    "                schar = str(character)\n",
    "                if schar in charmap:\n",
    "                    #atleast the char is present in the first word\n",
    "                    tempmap[schar] += 1\n",
    "            for key in charmap:\n",
    "                charmap[key] = min(tempmap[key], charmap[key])\n",
    "        for key in charmap:\n",
    "            val = charmap[key]\n",
    "            if val == 0:\n",
    "                continue\n",
    "            else:\n",
    "                result += val * [key]\n",
    "        return result"
   ]
  }
 ],
 "metadata": {
  "kernelspec": {
   "display_name": "Python 3",
   "language": "python",
   "name": "python3"
  },
  "language_info": {
   "codemirror_mode": {
    "name": "ipython",
    "version": 3
   },
   "file_extension": ".py",
   "mimetype": "text/x-python",
   "name": "python",
   "nbconvert_exporter": "python",
   "pygments_lexer": "ipython3",
   "version": "3.12.3"
  }
 },
 "nbformat": 4,
 "nbformat_minor": 2
}
