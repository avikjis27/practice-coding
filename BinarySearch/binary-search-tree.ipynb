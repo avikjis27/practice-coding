{
 "cells": [
  {
   "cell_type": "code",
   "execution_count": null,
   "metadata": {
    "vscode": {
     "languageId": "shellscript"
    }
   },
   "outputs": [],
   "source": [
    "#! /bin/bash\n",
    "pip install -r requirements.txt"
   ]
  },
  {
   "cell_type": "markdown",
   "metadata": {},
   "source": [
    "Lets see how pretty print works"
   ]
  },
  {
   "cell_type": "code",
   "execution_count": 1,
   "metadata": {},
   "outputs": [
    {
     "name": "stdout",
     "output_type": "stream",
     "text": [
      "        \u001b[100m 1 \u001b[0m\n",
      "     ┌───┴───┐\n",
      "    \u001b[100m 2 \u001b[0m     \u001b[100m 3 \u001b[0m\n",
      " ┌───┼───┐   | \n",
      "\u001b[100m 4 \u001b[0m \u001b[100m 5 \u001b[0m \u001b[100m 6 \u001b[0m \u001b[100m 7 \u001b[0m\n"
     ]
    }
   ],
   "source": [
    "from PrettyPrint import PrettyPrintTree\n",
    "\n",
    "class Tree:\n",
    "    def __init__(self, val):\n",
    "        self.val = val\n",
    "        self.children = []\n",
    "\n",
    "    def add_child(self, child):\n",
    "        self.children.append(child)\n",
    "        return child\n",
    "\n",
    "pt = PrettyPrintTree(lambda x: x.children, lambda x: x.val)\n",
    "tree = Tree(1)\n",
    "child1 = tree.add_child(Tree(2))\n",
    "child2 = tree.add_child(Tree(3))\n",
    "child1.add_child(Tree(4))\n",
    "child1.add_child(Tree(5))\n",
    "child1.add_child(Tree(6))\n",
    "child2.add_child(Tree(7))\n",
    "pt(tree)\n",
    "    \n",
    "    "
   ]
  },
  {
   "cell_type": "markdown",
   "metadata": {},
   "source": [
    "Let see how pretty print works for Binary tree"
   ]
  },
  {
   "cell_type": "code",
   "execution_count": 11,
   "metadata": {},
   "outputs": [
    {
     "name": "stdout",
     "output_type": "stream",
     "text": [
      "   \u001b[100m 10 \u001b[0m\n",
      " ┌──┴───┐\n",
      "\u001b[100m 5 \u001b[0m    \u001b[100m 15 \u001b[0m   \n",
      "     ┌──┴──┐  \n",
      "    \u001b[100m 20 \u001b[0m \u001b[100m \u001b[41m   \u001b[100m \u001b[0m\n"
     ]
    }
   ],
   "source": [
    "from PrettyPrint import PrettyPrintTree\n",
    "from colorama import Back\n",
    "\n",
    "class BinaryTree:\n",
    "    def __init__(self, val):\n",
    "        self.val = val\n",
    "        self.right = None\n",
    "        self.left = None\n",
    "    def add_right(self, tree):\n",
    "        self.right = tree\n",
    "        return tree\n",
    "    def add_left(self, tree):\n",
    "        self.left = tree\n",
    "        return tree\n",
    "\n",
    "\n",
    "pt = PrettyPrintTree(\n",
    "    lambda x: [] if x is None else x.right if x.left is None else [x.left, x.right],\n",
    "    lambda x: x.val if x else (Back.RED + '   ' + Back.LIGHTBLACK_EX)\n",
    ")\n",
    "root = BinaryTree(10)\n",
    "child1 = root.add_left(BinaryTree(5))\n",
    "child2 = root.add_right(BinaryTree(15))\n",
    "child2.add_left(BinaryTree(20))\n",
    "pt(root)"
   ]
  },
  {
   "cell_type": "markdown",
   "metadata": {},
   "source": [
    "Let's generate a binary search tree dynamically\n",
    "Binary Search tree Abdul Bari - https://youtu.be/jDM6_TnYIqE?si=LdsCKEFNoVhd3UYo"
   ]
  },
  {
   "cell_type": "code",
   "execution_count": 32,
   "metadata": {},
   "outputs": [],
   "source": [
    "from PrettyPrint import PrettyPrintTree\n",
    "from colorama import Back\n",
    "def configure_pretty_print():\n",
    "    pt = PrettyPrintTree(\n",
    "        lambda x: [] if x is None else [None, x.right] if x.left is None else [x.left, None] if x.right is None else [x.left, x.right],\n",
    "        lambda x: x.val if x else (Back.RED + '   ' + Back.LIGHTBLACK_EX)\n",
    "    )\n",
    "    return pt"
   ]
  },
  {
   "cell_type": "code",
   "execution_count": 16,
   "metadata": {},
   "outputs": [],
   "source": [
    "class BinaryTree:\n",
    "    def __init__(self, val):\n",
    "        self.val = val\n",
    "        self.right = None\n",
    "        self.left = None\n",
    "    def add_right(self, tree):\n",
    "        self.right = tree\n",
    "        return tree\n",
    "    def add_left(self, tree):\n",
    "        self.left = tree\n",
    "        return tree"
   ]
  },
  {
   "cell_type": "code",
   "execution_count": 37,
   "metadata": {},
   "outputs": [],
   "source": [
    "def insert_into_BST(root, value):\n",
    "    if not root:\n",
    "        return\n",
    "    elif root.val == value:\n",
    "        print(\"Duplicate value\")\n",
    "        return\n",
    "    elif root.val < value:\n",
    "        if root.left:\n",
    "            insert_into_BST(root.left, value)\n",
    "        else:\n",
    "            root.left = BinaryTree(value)\n",
    "    elif root.val > value:\n",
    "        if root.right:\n",
    "            insert_into_BST(root.right, value)\n",
    "        else:\n",
    "            root.right = BinaryTree(value)"
   ]
  },
  {
   "cell_type": "code",
   "execution_count": 38,
   "metadata": {},
   "outputs": [
    {
     "name": "stdout",
     "output_type": "stream",
     "text": [
      "                   \u001b[100m 1 \u001b[0m\n",
      "              ┌─────┴─────┐\n",
      "             \u001b[100m 2 \u001b[0m        \u001b[100m \u001b[41m   \u001b[100m \u001b[0m\n",
      "         ┌────┴─────┐        \n",
      "        \u001b[100m 3 \u001b[0m       \u001b[100m \u001b[41m   \u001b[100m \u001b[0m      \n",
      "     ┌───┴────┐              \n",
      "    \u001b[100m 4 \u001b[0m     \u001b[100m \u001b[41m   \u001b[100m \u001b[0m            \n",
      "  ┌──┴──┐                    \n",
      "\u001b[100m \u001b[41m   \u001b[100m \u001b[0m \u001b[100m \u001b[41m   \u001b[100m \u001b[0m\n"
     ]
    }
   ],
   "source": [
    "\n",
    "# if __name__ == '__main__':\n",
    "#     value = input('Give a number or press Enter! \\n')\n",
    "#     if value:\n",
    "#         root = BinaryTree(value)\n",
    "#         while True:\n",
    "#             value = input('Give a number or press Enter! \\n')\n",
    "#             if value:\n",
    "#                 insert_into_BST(root, value)\n",
    "#                 print(root.val)\n",
    "#             else:\n",
    "#                 break\n",
    "#     pt(root)\n",
    "root = None\n",
    "if __name__ == '__main__':\n",
    "    pt = configure_pretty_print()\n",
    "    values = [1,2,3,4]\n",
    "    root = BinaryTree(values[0])\n",
    "    for value in values[1:]:\n",
    "        insert_into_BST(root, value)\n",
    "    \n",
    "    pt(root)\n"
   ]
  },
  {
   "cell_type": "code",
   "execution_count": 39,
   "metadata": {},
   "outputs": [
    {
     "name": "stdout",
     "output_type": "stream",
     "text": [
      "      \u001b[100m 4 \u001b[0m\n",
      "  ┌────┴─────┐\n",
      "\u001b[100m \u001b[41m   \u001b[100m \u001b[0m       \u001b[100m 3 \u001b[0m              \n",
      "        ┌────┴────┐          \n",
      "      \u001b[100m \u001b[41m   \u001b[100m \u001b[0m      \u001b[100m 2 \u001b[0m         \n",
      "              ┌───┴────┐     \n",
      "            \u001b[100m \u001b[41m   \u001b[100m \u001b[0m     \u001b[100m 1 \u001b[0m    \n",
      "                    ┌──┴──┐  \n",
      "                  \u001b[100m \u001b[41m   \u001b[100m \u001b[0m \u001b[100m \u001b[41m   \u001b[100m \u001b[0m\n"
     ]
    }
   ],
   "source": [
    "\n",
    "root = None\n",
    "if __name__ == '__main__':\n",
    "    pt = configure_pretty_print()\n",
    "    values = [4,3,2,1]\n",
    "    root = BinaryTree(values[0])\n",
    "    for value in values[1:]:\n",
    "        insert_into_BST(root, value)\n",
    "    pt(root)"
   ]
  },
  {
   "cell_type": "code",
   "execution_count": 40,
   "metadata": {},
   "outputs": [
    {
     "name": "stdout",
     "output_type": "stream",
     "text": [
      "               \u001b[100m 2 \u001b[0m\n",
      "         ┌──────┴──────┐\n",
      "        \u001b[100m 3 \u001b[0m           \u001b[100m 1 \u001b[0m    \n",
      "     ┌───┴────┐     ┌──┴──┐  \n",
      "    \u001b[100m 4 \u001b[0m     \u001b[100m \u001b[41m   \u001b[100m \u001b[0m \u001b[100m \u001b[41m   \u001b[100m \u001b[0m \u001b[100m \u001b[41m   \u001b[100m \u001b[0m\n",
      "  ┌──┴──┐                    \n",
      "\u001b[100m \u001b[41m   \u001b[100m \u001b[0m \u001b[100m \u001b[41m   \u001b[100m \u001b[0m\n"
     ]
    }
   ],
   "source": [
    "root = None\n",
    "if __name__ == '__main__':\n",
    "    pt = configure_pretty_print()\n",
    "    values = [2,1,3,4]\n",
    "    root = BinaryTree(values[0])\n",
    "    for value in values[1:]:\n",
    "        insert_into_BST(root, value)\n",
    "    pt(root)"
   ]
  },
  {
   "cell_type": "code",
   "execution_count": 41,
   "metadata": {},
   "outputs": [
    {
     "name": "stdout",
     "output_type": "stream",
     "text": [
      "            \u001b[100m 3 \u001b[0m\n",
      "     ┌───────┴───────┐\n",
      "    \u001b[100m 4 \u001b[0m             \u001b[100m 1 \u001b[0m      \n",
      "  ┌──┴──┐        ┌───┴────┐  \n",
      "\u001b[100m \u001b[41m   \u001b[100m \u001b[0m \u001b[100m \u001b[41m   \u001b[100m \u001b[0m     \u001b[100m 2 \u001b[0m     \u001b[100m \u001b[41m   \u001b[100m \u001b[0m\n",
      "              ┌──┴──┐        \n",
      "            \u001b[100m \u001b[41m   \u001b[100m \u001b[0m \u001b[100m \u001b[41m   \u001b[100m \u001b[0m\n"
     ]
    }
   ],
   "source": [
    "root = None\n",
    "if __name__ == '__main__':\n",
    "    pt = configure_pretty_print()\n",
    "    values = [3,4,1,2]\n",
    "    root = BinaryTree(values[0])\n",
    "    for value in values[1:]:\n",
    "        insert_into_BST(root, value)\n",
    "    pt(root)"
   ]
  },
  {
   "cell_type": "code",
   "execution_count": 43,
   "metadata": {},
   "outputs": [
    {
     "name": "stdout",
     "output_type": "stream",
     "text": [
      "                                 \u001b[100m 3 \u001b[0m\n",
      "                        ┌─────────┴──────────┐\n",
      "                       \u001b[100m 4 \u001b[0m                  \u001b[100m 1 \u001b[0m      \n",
      "                ┌───────┴───────┐        ┌───┴────┐  \n",
      "               \u001b[100m 5 \u001b[0m            \u001b[100m \u001b[41m   \u001b[100m \u001b[0m     \u001b[100m 2 \u001b[0m     \u001b[100m \u001b[41m   \u001b[100m \u001b[0m\n",
      "       ┌────────┴─────────┐           ┌──┴──┐        \n",
      "      \u001b[100m 12 \u001b[0m              \u001b[100m \u001b[41m   \u001b[100m \u001b[0m       \u001b[100m \u001b[41m   \u001b[100m \u001b[0m \u001b[100m \u001b[41m   \u001b[100m \u001b[0m      \n",
      "  ┌────┴────┐                                        \n",
      "\u001b[100m \u001b[41m   \u001b[100m \u001b[0m      \u001b[100m 9 \u001b[0m                                       \n",
      "        ┌───┴────┐                                   \n",
      "      \u001b[100m \u001b[41m   \u001b[100m \u001b[0m     \u001b[100m 8 \u001b[0m                                  \n",
      "              ┌──┴──┐                                \n",
      "            \u001b[100m \u001b[41m   \u001b[100m \u001b[0m \u001b[100m \u001b[41m   \u001b[100m \u001b[0m\n",
      "20 is present NOT in the tree\n",
      "12 is present in the tree\n"
     ]
    }
   ],
   "source": [
    "#Search in BST\n",
    "\n",
    "def find_in_bst(root, value):\n",
    "    if not root:\n",
    "        print(f\"{value} is present NOT in the tree\")\n",
    "        return\n",
    "    elif root.val == value:\n",
    "        print(f\"{value} is present in the tree\")\n",
    "        return\n",
    "    elif root.val > value:\n",
    "        find_in_bst(root.right, value)\n",
    "    elif root.val < value:\n",
    "        find_in_bst(root.left, value)\n",
    "\n",
    "root = None\n",
    "if __name__ == '__main__':\n",
    "    pt = configure_pretty_print()\n",
    "    values = [3,4,1,2,5,12,9,8]\n",
    "    root = BinaryTree(values[0])\n",
    "    for value in values[1:]:\n",
    "        insert_into_BST(root, value)\n",
    "    pt(root)\n",
    "\n",
    "    find_in_bst(root,20)\n",
    "    find_in_bst(root,12)"
   ]
  }
 ],
 "metadata": {
  "kernelspec": {
   "display_name": "Python 3",
   "language": "python",
   "name": "python3"
  },
  "language_info": {
   "codemirror_mode": {
    "name": "ipython",
    "version": 3
   },
   "file_extension": ".py",
   "mimetype": "text/x-python",
   "name": "python",
   "nbconvert_exporter": "python",
   "pygments_lexer": "ipython3",
   "version": "3.12.3"
  }
 },
 "nbformat": 4,
 "nbformat_minor": 2
}
