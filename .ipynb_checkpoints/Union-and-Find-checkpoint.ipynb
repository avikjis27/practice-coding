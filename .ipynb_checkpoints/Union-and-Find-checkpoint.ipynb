{
 "cells": [
  {
   "cell_type": "markdown",
   "id": "4a92a58f-a87a-4698-b880-abb88098e27a",
   "metadata": {},
   "source": [
    "https://leetcode.com/problems/redundant-connection/\n",
    "\n",
    "In this problem, a tree is an undirected graph that is connected and has no cycles.\n",
    "\n",
    "You are given a graph that started as a tree with n nodes labeled from 1 to n, with one additional edge added. The added edge has two different vertices chosen from 1 to n, and was not an edge that already existed. The graph is represented as an array edges of length n where edges[i] = [ai, bi] indicates that there is an edge between nodes ai and bi in the graph.\n",
    "\n",
    "Return an edge that can be removed so that the resulting graph is a tree of n nodes. If there are multiple answers, return the answer that occurs last in the input.\n",
    "\n",
    "Input: edges = [[1,2],[1,3],[2,3]]\n",
    "Output: [2,3]\n",
    "\n",
    "Input: edges = [[1,2],[2,3],[3,4],[1,4],[1,5]]\n",
    "Output: [1,4]"
   ]
  },
  {
   "cell_type": "markdown",
   "id": "5542b6c0-1097-4b16-aba4-f4112bc6a0bc",
   "metadata": {},
   "source": [
    "### Solution 1\n",
    "\n",
    "Before adding an edge check if the nodes are already reachable. I yes, the current edge is redundant and creates circle"
   ]
  },
  {
   "cell_type": "code",
   "execution_count": 2,
   "id": "63c50837-7733-4f07-a9f3-8c04f71c14b5",
   "metadata": {},
   "outputs": [
    {
     "name": "stdout",
     "output_type": "stream",
     "text": [
      "[1, 4]\n"
     ]
    }
   ],
   "source": [
    "class Solution:\n",
    "    def isReachable(self, toNode, fromNode, adjacencyMap):\n",
    "        visited = {}\n",
    "        bfsstack = []\n",
    "        result = False\n",
    "        bfsstack.append(toNode)\n",
    "        while len(bfsstack) > 0:\n",
    "            nodeToVisit = bfsstack.pop()\n",
    "            if nodeToVisit == fromNode:\n",
    "                result = True\n",
    "                break\n",
    "            if nodeToVisit in visited:\n",
    "                continue\n",
    "            if nodeToVisit not in adjacencyMap:\n",
    "                continue\n",
    "            for node in adjacencyMap[nodeToVisit]:\n",
    "                bfsstack.append(node)\n",
    "            visited[nodeToVisit] = True\n",
    "        return result\n",
    "    \n",
    "    def findRedundantConnection(self, edges):\n",
    "        adjacencyMap = {}\n",
    "        \n",
    "        for edge in edges:\n",
    "            toNode = edge[0]\n",
    "            fromNode = edge[1]\n",
    "            if self.isReachable(toNode, fromNode, adjacencyMap):\n",
    "                return edge\n",
    "            else:\n",
    "                if toNode in adjacencyMap:\n",
    "                    adjacencyMap[toNode].append(fromNode)\n",
    "                else:\n",
    "                    adjacencyMap[toNode] = [fromNode]\n",
    "                \n",
    "                if fromNode in adjacencyMap:\n",
    "                    adjacencyMap[fromNode].append(toNode)\n",
    "                else:\n",
    "                    adjacencyMap[fromNode] = [toNode]\n",
    "\n",
    "                    \n",
    "solution = Solution()\n",
    "print(solution.findRedundantConnection([[1,2],[2,3],[3,4],[1,4],[1,5]]))"
   ]
  },
  {
   "cell_type": "markdown",
   "id": "2a4170af-899a-4be4-a7d9-b77919e1e4cd",
   "metadata": {},
   "source": [
    "### Union and find algorithm"
   ]
  },
  {
   "cell_type": "code",
   "execution_count": 7,
   "id": "aa210917-88de-4819-bee8-503a34997205",
   "metadata": {},
   "outputs": [
    {
     "name": "stdout",
     "output_type": "stream",
     "text": [
      "[0, 1, 2, 3, 4]\n",
      "[1, 4]\n"
     ]
    }
   ],
   "source": [
    "from itertools import chain\n",
    "class DSU:\n",
    "    def __init__(self, N):\n",
    "        self.p = list(range(N))\n",
    "\n",
    "    def find(self, x):\n",
    "        if self.p[x] != x:\n",
    "            self.p[x] = self.find(self.p[x])\n",
    "        return self.p[x]\n",
    "\n",
    "    def union(self, x, y):\n",
    "        xr = self.find(x)\n",
    "        yr = self.find(y)\n",
    "        self.p[xr] = yr\n",
    "\n",
    "class Solution:\n",
    "    def findRedundantConnection(self, edges):\n",
    "        N = len(set(chain(*edges)))\n",
    "        dsu = DSU(N)\n",
    "        print(dsu.p)\n",
    "        for i, j in edges:\n",
    "            if dsu.find(i-1) == dsu.find(j-1):\n",
    "                return([i,j])\n",
    "            else:\n",
    "                dsu.union(i-1,j-1)\n",
    "                \n",
    "solution = Solution()\n",
    "print(solution.findRedundantConnection([[1,2],[2,3],[3,4],[1,4],[1,5]]))"
   ]
  },
  {
   "cell_type": "code",
   "execution_count": null,
   "id": "3f1345e2-40c4-47ce-bd43-f223c39d1d8c",
   "metadata": {},
   "outputs": [],
   "source": []
  }
 ],
 "metadata": {
  "kernelspec": {
   "display_name": "Python 3",
   "language": "python",
   "name": "python3"
  },
  "language_info": {
   "codemirror_mode": {
    "name": "ipython",
    "version": 3
   },
   "file_extension": ".py",
   "mimetype": "text/x-python",
   "name": "python",
   "nbconvert_exporter": "python",
   "pygments_lexer": "ipython3",
   "version": "3.8.2"
  }
 },
 "nbformat": 4,
 "nbformat_minor": 5
}
