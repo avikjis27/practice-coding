{
 "cells": [
  {
   "cell_type": "markdown",
   "metadata": {},
   "source": [
    "# Two Sum problem\n",
    "\n",
    "Leetcode - https://leetcode.com/problems/two-sum/description/"
   ]
  },
  {
   "cell_type": "code",
   "execution_count": 2,
   "metadata": {},
   "outputs": [],
   "source": [
    "from collections import defaultdict \n",
    "from typing import List\n",
    "class Solution:\n",
    "    def twoSum(self, nums: List[int], target: int) -> List[int]:\n",
    "        num_map = defaultdict(set) \n",
    "        ## Set is required beacuse there might be duplicate number present in the array\n",
    "        result = []\n",
    "        for index, num  in enumerate(nums):\n",
    "            num_map[num].add(index)\n",
    "        for index, num in enumerate(nums):\n",
    "            diff = target - num\n",
    "            indices = num_map[diff]\n",
    "            for pos in indices:\n",
    "                if pos != index: \n",
    "                    ## Conside the test case [3,2,4] target 6\n",
    "                    ## Without this check the result would be [3,3]\n",
    "                    result.append(index)\n",
    "                    result.append(pos) \n",
    "                    break\n",
    "            if result: # If there is one result present no need to iterate\n",
    "                break\n",
    "\n",
    "        return result\n",
    "\n",
    "if __name__ == '__main__':\n",
    "    solution = Solution()\n",
    "    assert (solution.twoSum([3,2,4], 6) == [1,2])\n",
    "    assert (solution.twoSum([3,3], 6) == [0,1])\n",
    "    assert (solution.twoSum([2,7,11,15], 9) == [0,1])\n",
    "    "
   ]
  },
  {
   "cell_type": "markdown",
   "metadata": {},
   "source": [
    "Can we further decrease the space complexity?"
   ]
  }
 ],
 "metadata": {
  "kernelspec": {
   "display_name": "Python 3",
   "language": "python",
   "name": "python3"
  },
  "language_info": {
   "codemirror_mode": {
    "name": "ipython",
    "version": 3
   },
   "file_extension": ".py",
   "mimetype": "text/x-python",
   "name": "python",
   "nbconvert_exporter": "python",
   "pygments_lexer": "ipython3",
   "version": "3.12.3"
  }
 },
 "nbformat": 4,
 "nbformat_minor": 2
}
